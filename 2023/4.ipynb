{
 "cells": [
  {
   "cell_type": "markdown",
   "metadata": {},
   "source": [
    "1"
   ]
  },
  {
   "cell_type": "code",
   "execution_count": 80,
   "metadata": {},
   "outputs": [
    {
     "name": "stdout",
     "output_type": "stream",
     "text": [
      "25651\n"
     ]
    }
   ],
   "source": [
    "with open(input,'r') as file:\n",
    "    res = 0\n",
    "    lines = file.readlines()\n",
    "    for line_num, line_content in enumerate(lines):\n",
    "        win_num = set([int(element) for element in line_content.strip().split(':')[1].split('|')[0].split()])\n",
    "        my_num = set([int(element) for element in line_content.strip().split(':')[1].split('|')[1].split()])\n",
    "        if len(win_num & my_num):\n",
    "            res+=(2**(len(win_num & my_num)-1))\n",
    "file.close()\n",
    "print(res)      "
   ]
  },
  {
   "cell_type": "markdown",
   "metadata": {},
   "source": [
    "2"
   ]
  },
  {
   "cell_type": "code",
   "execution_count": 83,
   "metadata": {},
   "outputs": [
    {
     "name": "stdout",
     "output_type": "stream",
     "text": [
      "19499881\n"
     ]
    }
   ],
   "source": [
    "with open(input,'r') as file:\n",
    "    cards = {}\n",
    "    lines = file.readlines()\n",
    "    for line_num, line_content in enumerate(lines,start=1):\n",
    "        # print('Line num: ',line_num)\n",
    "        if line_num not in cards:\n",
    "            cards[line_num] = 1\n",
    "        else:\n",
    "            cards[line_num] += 1\n",
    "\n",
    "        win_num = set([int(element) for element in line_content.strip().split(':')[1].split('|')[0].split()])\n",
    "        my_num = set([int(element) for element in line_content.strip().split(':')[1].split('|')[1].split()])\n",
    "\n",
    "        if len(win_num & my_num):\n",
    "            for element in range(line_num+1, line_num+len(win_num & my_num)+1):\n",
    "                if element not in cards:\n",
    "                    cards[element] = cards[line_num]\n",
    "                else:\n",
    "                    cards[element] += cards[line_num]\n",
    "        # print(cards)\n",
    "\n",
    "                        \n",
    "file.close()\n",
    "print(sum(cards.values()))"
   ]
  }
 ],
 "metadata": {
  "kernelspec": {
   "display_name": "Python 3",
   "language": "python",
   "name": "python3"
  },
  "language_info": {
   "codemirror_mode": {
    "name": "ipython",
    "version": 3
   },
   "file_extension": ".py",
   "mimetype": "text/x-python",
   "name": "python",
   "nbconvert_exporter": "python",
   "pygments_lexer": "ipython3",
   "version": "3.11.6"
  }
 },
 "nbformat": 4,
 "nbformat_minor": 2
}
