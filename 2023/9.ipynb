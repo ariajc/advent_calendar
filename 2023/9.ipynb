{
 "cells": [
  {
   "cell_type": "code",
   "execution_count": 241,
   "metadata": {},
   "outputs": [],
   "source": [
    "input = r\"C:\\Users\\ariaj\\OneDrive\\Escritorio\\input2.txt\""
   ]
  },
  {
   "cell_type": "markdown",
   "metadata": {},
   "source": [
    "1"
   ]
  },
  {
   "cell_type": "code",
   "execution_count": 242,
   "metadata": {},
   "outputs": [],
   "source": [
    "with open(input) as file:\n",
    "    res = 0\n",
    "    lines = file.readlines()\n",
    "    for line in lines:\n",
    "        x = []\n",
    "        num = [int(element) for element in line.strip().split()]\n",
    "        while not all([element == 0 for element in num]):\n",
    "            x.append(num)\n",
    "            num = [num[i + 1] - num[i] for i in range(len(num)-1)]\n",
    "        res+=sum([sublist[-1] for sublist in x])\n"
   ]
  },
  {
   "cell_type": "code",
   "execution_count": 243,
   "metadata": {},
   "outputs": [
    {
     "data": {
      "text/plain": [
       "68"
      ]
     },
     "execution_count": 243,
     "metadata": {},
     "output_type": "execute_result"
    }
   ],
   "source": [
    "res"
   ]
  },
  {
   "cell_type": "code",
   "execution_count": 302,
   "metadata": {},
   "outputs": [],
   "source": [
    "with open(input) as file:\n",
    "    res = 0\n",
    "    lines = file.readlines()\n",
    "    for line in lines:\n",
    "        x = []\n",
    "        num = [int(element) for element in line.strip().split()]\n",
    "        while not all([element == 0 for element in num]):\n",
    "            x.append(num)\n",
    "            num = [num[i + 1] - num[i] for i in range(len(num)-1)]\n",
    "\n",
    "        x.append([0]*len(x[-1]))\n",
    "\n",
    "        x.reverse()\n",
    "\n",
    "        for i in range(1,len(x)):\n",
    "            x[i].insert(0,x[i][0]-x[i-1][0])\n",
    "\n",
    "        res+=x[-1][0]\n"
   ]
  },
  {
   "cell_type": "code",
   "execution_count": 248,
   "metadata": {},
   "outputs": [
    {
     "data": {
      "text/plain": [
       "[None, None, None, None]"
      ]
     },
     "execution_count": 248,
     "metadata": {},
     "output_type": "execute_result"
    }
   ],
   "source": [
    "x"
   ]
  }
 ],
 "metadata": {
  "kernelspec": {
   "display_name": "Python 3",
   "language": "python",
   "name": "python3"
  },
  "language_info": {
   "codemirror_mode": {
    "name": "ipython",
    "version": 3
   },
   "file_extension": ".py",
   "mimetype": "text/x-python",
   "name": "python",
   "nbconvert_exporter": "python",
   "pygments_lexer": "ipython3",
   "version": "3.11.6"
  }
 },
 "nbformat": 4,
 "nbformat_minor": 2
}
