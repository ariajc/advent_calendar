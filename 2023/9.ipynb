{
 "cells": [
  {
   "cell_type": "code",
   "execution_count": 353,
   "metadata": {},
   "outputs": [],
   "source": [
   ]
  },
  {
   "cell_type": "markdown",
   "metadata": {},
   "source": [
    "1"
   ]
  },
  {
   "cell_type": "code",
   "execution_count": 354,
   "metadata": {},
   "outputs": [],
   "source": [
    "with open(input) as file:\n",
    "    res = 0\n",
    "    lines = file.readlines()\n",
    "    for line in lines:\n",
    "        x = []\n",
    "        num = [int(element) for element in line.strip().split()]\n",
    "        while not all([element == 0 for element in num]):\n",
    "            x.append(num)\n",
    "            num = [num[i + 1] - num[i] for i in range(len(num)-1)]\n",
    "        res+=sum([sublist[-1] for sublist in x])\n"
   ]
  },
  {
   "cell_type": "code",
   "execution_count": 355,
   "metadata": {},
   "outputs": [
    {
     "data": {
      "text/plain": [
       "1861775706"
      ]
     },
     "execution_count": 355,
     "metadata": {},
     "output_type": "execute_result"
    }
   ],
   "source": [
    "res"
   ]
  },
  {
   "cell_type": "markdown",
   "metadata": {},
   "source": [
    "2"
   ]
  },
  {
   "cell_type": "code",
   "execution_count": 356,
   "metadata": {},
   "outputs": [],
   "source": [
    "with open(input) as file:\n",
    "    res = 0\n",
    "    lines = file.readlines()\n",
    "    for line in lines:\n",
    "        x = []\n",
    "        num = [int(element) for element in line.strip().split()]\n",
    "        num.reverse()\n",
    "        while not all([element == 0 for element in num]):\n",
    "            x.append(num)\n",
    "            num = [num[i + 1] - num[i] for i in range(len(num)-1)]\n",
    "        res+=sum([sublist[-1] for sublist in x])"
   ]
  },
  {
   "cell_type": "code",
   "execution_count": 357,
   "metadata": {},
   "outputs": [
    {
     "data": {
      "text/plain": [
       "1082"
      ]
     },
     "execution_count": 357,
     "metadata": {},
     "output_type": "execute_result"
    }
   ],
   "source": [
    "res"
   ]
  }
 ],
 "metadata": {
  "kernelspec": {
   "display_name": "Python 3",
   "language": "python",
   "name": "python3"
  },
  "language_info": {
   "codemirror_mode": {
    "name": "ipython",
    "version": 3
   },
   "file_extension": ".py",
   "mimetype": "text/x-python",
   "name": "python",
   "nbconvert_exporter": "python",
   "pygments_lexer": "ipython3",
   "version": "3.11.6"
  }
 },
 "nbformat": 4,
 "nbformat_minor": 2
}
