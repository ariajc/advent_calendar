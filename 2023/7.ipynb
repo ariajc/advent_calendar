{
 "cells": [
  {
   "cell_type": "code",
   "execution_count": 130,
   "metadata": {},
   "outputs": [],
   "source": [
    "input = r\"C:\\Users\\ariaj\\OneDrive\\Escritorio\\input.txt\""
   ]
  },
  {
   "cell_type": "code",
   "execution_count": 131,
   "metadata": {},
   "outputs": [],
   "source": [
    "five_of_a_kind = [] \n",
    "four_of_a_kind = []\n",
    "full_house = []\n",
    "three_of_a_kind = []\n",
    "two_pair = []\n",
    "one_pair = []\n",
    "high_card = []\n",
    "\n",
    "card_vals = {'A':14, 'K':13, 'Q':12, 'J':11, 'T':10, '9':9, '8':8, '7':7, '6':6, '5':5, '4':4, '3':3, '2':2}"
   ]
  },
  {
   "cell_type": "code",
   "execution_count": 132,
   "metadata": {},
   "outputs": [],
   "source": [
    "global five_of_a_kind, four_of_a_kind, full_house, three_of_a_kind, two_pair, one_pair, high_card, card_vals"
   ]
  },
  {
   "cell_type": "markdown",
   "metadata": {},
   "source": [
    "1"
   ]
  },
  {
   "cell_type": "code",
   "execution_count": 133,
   "metadata": {},
   "outputs": [],
   "source": [
    "def insert_card(hand, p2 = False):\n",
    "    card_counts = {i: hand[0].count(i) for i in set(hand[0])}\n",
    "\n",
    "    if p2:\n",
    "        sorted_card_counts = dict(sorted(card_counts.items(), key=lambda x:x[1], reverse=True))\n",
    "        card_counts = sorted_card_counts\n",
    "        if 'J' in card_counts.keys() and hand[0] != 'JJJJJ':\n",
    "            value = card_counts.pop('J')\n",
    "            first_key = next(iter(card_counts))\n",
    "\n",
    "            if first_key in card_counts:\n",
    "                card_counts[first_key] += value\n",
    "\n",
    "    length = len(card_counts)\n",
    "\n",
    "    lists_by_length = {\n",
    "        1: five_of_a_kind,\n",
    "        2: four_of_a_kind if any(value == 4 for value in card_counts.values()) else full_house,\n",
    "        3: three_of_a_kind if any(value == 3 for value in card_counts.values()) else two_pair,\n",
    "        4: one_pair,\n",
    "        5: high_card\n",
    "    }\n",
    "\n",
    "    current_list = lists_by_length.get(length)\n",
    "\n",
    "    if len(current_list):\n",
    "        pos = binary_search_for_insert(current_list, hand)\n",
    "        current_list.insert(pos, hand)\n",
    "    else:\n",
    "        current_list.append(hand)\n",
    "\n",
    "def compare_cards(card1, card2):\n",
    "    for char1, char2 in zip(card1, card2):\n",
    "        if card_vals[char1] < card_vals[char2]:\n",
    "            return -1\n",
    "        elif card_vals[char1] > card_vals[char2]:\n",
    "            return 1\n",
    "\n",
    "    return 0\n",
    "\n",
    "def binary_search_for_insert(cards, new_card):\n",
    "    low, high = 0, len(cards) - 1\n",
    "\n",
    "    while low <= high:\n",
    "        mid = (low + high) // 2\n",
    "        current_card = cards[mid][0]\n",
    "\n",
    "        comparison_result = compare_cards(current_card, new_card[0])\n",
    "\n",
    "        if comparison_result < 0:\n",
    "            low = mid + 1\n",
    "        elif comparison_result > 0:\n",
    "            high = mid - 1\n",
    "        else:\n",
    "            return mid\n",
    "\n",
    "    return low\n"
   ]
  },
  {
   "cell_type": "code",
   "execution_count": 134,
   "metadata": {},
   "outputs": [
    {
     "name": "stdout",
     "output_type": "stream",
     "text": [
      "251136060\n"
     ]
    }
   ],
   "source": [
    "with open(input,'r') as file:\n",
    "    res = 0\n",
    "    lines = file.readlines()\n",
    "    for line in lines:\n",
    "        card = line.split()\n",
    "        insert_card(card)\n",
    "    leaderboard = high_card + one_pair + two_pair + three_of_a_kind + full_house + four_of_a_kind + five_of_a_kind\n",
    "    for rank, element in enumerate(leaderboard, start=1):\n",
    "        res+=rank*int(element[1])\n",
    "file.close()\n",
    "print(res)"
   ]
  },
  {
   "cell_type": "markdown",
   "metadata": {},
   "source": [
    "2"
   ]
  },
  {
   "cell_type": "code",
   "execution_count": 135,
   "metadata": {},
   "outputs": [],
   "source": [
    "five_of_a_kind = [] \n",
    "four_of_a_kind = []\n",
    "full_house = []\n",
    "three_of_a_kind = []\n",
    "two_pair = []\n",
    "one_pair = []\n",
    "high_card = []\n",
    "\n",
    "card_vals = {'A':14, 'K':13, 'Q':12, 'T':10, '9':9, '8':8, '7':7, '6':6, '5':5, '4':4, '3':3, '2':2, 'J':1}"
   ]
  },
  {
   "cell_type": "code",
   "execution_count": 137,
   "metadata": {},
   "outputs": [
    {
     "name": "stdout",
     "output_type": "stream",
     "text": [
      "249400220\n"
     ]
    }
   ],
   "source": [
    "with open(input,'r') as file:\n",
    "    res = 0\n",
    "    lines = file.readlines()\n",
    "    for line in lines:\n",
    "        card = line.split()\n",
    "        insert_card(card,True)\n",
    "    leaderboard = high_card + one_pair + two_pair + three_of_a_kind + full_house + four_of_a_kind + five_of_a_kind\n",
    "    for rank, element in enumerate(leaderboard, start=1):\n",
    "        res+=rank*int(element[1])\n",
    "file.close()\n",
    "print(res)"
   ]
  }
 ],
 "metadata": {
  "kernelspec": {
   "display_name": "Python 3",
   "language": "python",
   "name": "python3"
  },
  "language_info": {
   "codemirror_mode": {
    "name": "ipython",
    "version": 3
   },
   "file_extension": ".py",
   "mimetype": "text/x-python",
   "name": "python",
   "nbconvert_exporter": "python",
   "pygments_lexer": "ipython3",
   "version": "3.11.6"
  }
 },
 "nbformat": 4,
 "nbformat_minor": 2
}
