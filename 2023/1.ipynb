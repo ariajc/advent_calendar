{
 "cells": [
  {
   "cell_type": "code",
   "execution_count": null,
   "metadata": {},
   "outputs": [],
   "source": [
    "with open(input) as file:\n",
    "  num = 0\n",
    "  for item in file:\n",
    "    numbers = ''.join(c for c in item if c.isdigit())\n",
    "    num += int(numbers[0]+numbers[-1])\n",
    "\n",
    "print(num) "
   ]
  },
  {
   "cell_type": "code",
   "execution_count": null,
   "metadata": {},
   "outputs": [],
   "source": [
    "dict = {'nine':'9', 'eight':'8','seven':'7', 'six':'6', 'five':'5', 'four':'4', 'three':'3','two':'2','one':'1'}\n",
    "\n",
    "with open(input) as file:\n",
    "    num = 0\n",
    "    for item in file:\n",
    "        numbers =''\n",
    "        for i in range(len(item)):\n",
    "            if item[i].isdigit():\n",
    "                numbers += item[i]\n",
    "            else:\n",
    "                for k, v in dict.items():\n",
    "                    if item[i:].startswith(k):\n",
    "                        numbers += v\n",
    "        num += int(numbers[0] + numbers[-1])\n",
    "\n",
    "print(num)"
   ]
  }
 ],
 "metadata": {
  "language_info": {
   "name": "python"
  }
 },
 "nbformat": 4,
 "nbformat_minor": 2
}
