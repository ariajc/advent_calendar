{
 "cells": [
  {
   "cell_type": "code",
   "execution_count": 122,
   "metadata": {},
   "outputs": [],
   "source": [
    "import itertools"
   ]
  },
  {
   "cell_type": "markdown",
   "metadata": {},
   "source": [
    "1"
   ]
  },
  {
   "cell_type": "code",
   "execution_count": 123,
   "metadata": {},
   "outputs": [
    {
     "name": "stdout",
     "output_type": "stream",
     "text": [
      "12643\n"
     ]
    }
   ],
   "source": [
    "with open(input) as file:\n",
    "    lines = file.readlines()\n",
    "    instructions = lines[0].strip()\n",
    "    network = dict()\n",
    "    for i in range(2,len(lines)):\n",
    "        x,y = lines[i].strip().split(' = ')\n",
    "        network[x] = tuple(y.strip('()').split(', '))\n",
    "    count=0\n",
    "    pos = 'AAA'\n",
    "    for element in itertools.cycle(instructions):\n",
    "        pos = network[pos][0] if element == 'L' else network[pos][1]\n",
    "        count+=1\n",
    "        if pos == 'ZZZ':\n",
    "            break\n",
    "\n",
    "\n",
    "print(count)  "
   ]
  },
  {
   "cell_type": "markdown",
   "metadata": {},
   "source": [
    "2"
   ]
  },
  {
   "cell_type": "code",
   "execution_count": 124,
   "metadata": {},
   "outputs": [],
   "source": [
    "from math import gcd"
   ]
  },
  {
   "cell_type": "code",
   "execution_count": 125,
   "metadata": {},
   "outputs": [
    {
     "name": "stdout",
     "output_type": "stream",
     "text": [
      "13133452426987\n"
     ]
    }
   ],
   "source": [
    "with open(input) as file:\n",
    "    lines = file.readlines()\n",
    "    instructions = lines[0].strip()\n",
    "    network = dict()\n",
    "    for i in range(2,len(lines)):\n",
    "        x,y = lines[i].strip().split(' = ')\n",
    "        network[x] = tuple(y.strip('()').split(', '))\n",
    "    start = list(set([key for key in network.keys() if key.endswith('A')]))\n",
    "    res=[]\n",
    "    \n",
    "    for index,name in enumerate(start):\n",
    "        count=0\n",
    "        for element in itertools.cycle(instructions):\n",
    "            name = network[name][0] if element == 'L' else network[name][1]\n",
    "            count+=1\n",
    "            if name.endswith('Z'):\n",
    "                break\n",
    "        res.append(count)\n",
    "\n",
    "    lcm = 1\n",
    "    for i in res:\n",
    "        lcm = lcm*i//gcd(lcm, i)\n",
    "    print(lcm)\n"
   ]
  }
 ],
 "metadata": {
  "kernelspec": {
   "display_name": "Python 3",
   "language": "python",
   "name": "python3"
  },
  "language_info": {
   "codemirror_mode": {
    "name": "ipython",
    "version": 3
   },
   "file_extension": ".py",
   "mimetype": "text/x-python",
   "name": "python",
   "nbconvert_exporter": "python",
   "pygments_lexer": "ipython3",
   "version": "3.11.6"
  }
 },
 "nbformat": 4,
 "nbformat_minor": 2
}
