{
 "cells": [
  {
   "cell_type": "markdown",
   "metadata": {},
   "source": [
    "1"
   ]
  },
  {
   "cell_type": "code",
   "execution_count": 49,
   "metadata": {},
   "outputs": [
    {
     "name": "stdout",
     "output_type": "stream",
     "text": [
      "1931\n"
     ]
    }
   ],
   "source": [
    "import re\n",
    "\n",
    "def is_valid_play(play):\n",
    "    colors = re.findall(r'\\b(?:[a-zA-Z]+)\\b', play)\n",
    "    numbers = [int(num) for num in re.findall(r'\\b\\d+\\b', play)]\n",
    "\n",
    "    for number, color in zip(numbers, colors):\n",
    "        if (number > 12 and 'red' in color) or (number > 13 and 'green' in color) or (number > 14 and 'blue' in color):\n",
    "            return False\n",
    "\n",
    "    return True\n",
    "\n",
    "total_valid_games = 0\n",
    "\n",
    "with open(input, 'r') as file:\n",
    "    for index,line in enumerate(file):\n",
    "        plays = line.split(':')[1]\n",
    "\n",
    "        if all(is_valid_play(play) for play in plays.split(';')):\n",
    "            total_valid_games += index+1\n",
    "\n",
    "print(total_valid_games)\n",
    "\n"
   ]
  },
  {
   "cell_type": "markdown",
   "metadata": {},
   "source": [
    "2"
   ]
  },
  {
   "cell_type": "code",
   "execution_count": 57,
   "metadata": {},
   "outputs": [
    {
     "name": "stdout",
     "output_type": "stream",
     "text": [
      "83105\n"
     ]
    }
   ],
   "source": [
    "with open(input,'r') as file:\n",
    "  res=0\n",
    "  for item in file:\n",
    "    power = {'red':0,'green':0,'blue':0}\n",
    "    plays = item.split(':')[1]\n",
    "    possible = True\n",
    "\n",
    "    for element in plays.split(';'):\n",
    "\n",
    "        color =  re.findall(r'\\b(?:[a-zA-Z]+)\\b', element)\n",
    "        numbers = [int(num) for num in re.findall(r'\\b\\d+\\b', element)]\n",
    "        \n",
    "        for number,color in zip(numbers,color):\n",
    "            if number > power[color]:\n",
    "               power[color] = number\n",
    "    \n",
    "    res += power['red']*power['green']*power['blue']\n",
    "\n",
    "print(res)"
   ]
  }
 ],
 "metadata": {
  "kernelspec": {
   "display_name": "Python 3",
   "language": "python",
   "name": "python3"
  },
  "language_info": {
   "codemirror_mode": {
    "name": "ipython",
    "version": 3
   },
   "file_extension": ".py",
   "mimetype": "text/x-python",
   "name": "python",
   "nbconvert_exporter": "python",
   "pygments_lexer": "ipython3",
   "version": "3.11.6"
  }
 },
 "nbformat": 4,
 "nbformat_minor": 2
}
