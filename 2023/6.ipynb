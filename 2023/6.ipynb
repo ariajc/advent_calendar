{
 "cells": [
  {
   "cell_type": "code",
   "execution_count": 1,
   "metadata": {},
   "outputs": [],
   "source": [
    "input = r\"C:\\Users\\ariaj\\OneDrive\\Escritorio\\input2.txt\""
   ]
  },
  {
   "cell_type": "code",
   "execution_count": 2,
   "metadata": {},
   "outputs": [],
   "source": [
    "import re"
   ]
  },
  {
   "cell_type": "code",
   "execution_count": 3,
   "metadata": {},
   "outputs": [],
   "source": [
    "def ways2win(time,dist):\n",
    "\n",
    "    start = 0\n",
    "    end = time\n",
    "\n",
    "    while (time-start)*start <= dist:\n",
    "            start += 1\n",
    "\n",
    "    while (time-end)*end <= dist:\n",
    "            end -= 1\n",
    "\n",
    "    return end-start+1"
   ]
  },
  {
   "cell_type": "markdown",
   "metadata": {},
   "source": [
    "1"
   ]
  },
  {
   "cell_type": "code",
   "execution_count": 4,
   "metadata": {},
   "outputs": [
    {
     "name": "stdout",
     "output_type": "stream",
     "text": [
      "316800\n"
     ]
    }
   ],
   "source": [
    "with open(input,'r') as file:\n",
    "    text = file.read()\n",
    "    res = 1\n",
    "\n",
    "    time_list = [int(match) for match in re.findall(r'\\b\\d+\\b', re.search(r'Time:(.+?)Distance:', text, re.DOTALL).group(1))]\n",
    "    distance_list = [int(match) for match in re.findall(r'\\b\\d+\\b', re.search(r'Distance:(.+?)$', text, re.DOTALL).group(1))]\n",
    "\n",
    "    for x,y in zip(time_list,distance_list):\n",
    "        res*=ways2win(x,y)\n",
    "\n",
    "file.close()\n",
    "print(res)"
   ]
  },
  {
   "cell_type": "markdown",
   "metadata": {},
   "source": [
    "2"
   ]
  },
  {
   "cell_type": "code",
   "execution_count": 5,
   "metadata": {},
   "outputs": [
    {
     "name": "stdout",
     "output_type": "stream",
     "text": [
      "45647654\n"
     ]
    }
   ],
   "source": [
    "with open(input,'r') as file:\n",
    "    text = file.read()\n",
    "    res = 1\n",
    "\n",
    "    time_list = [match for match in re.findall(r'\\b\\d+\\b', re.search(r'Time:(.+?)Distance:', text, re.DOTALL).group(1))]\n",
    "    time = int(''.join([n for n in time_list]))\n",
    "    distance_list = [match for match in re.findall(r'\\b\\d+\\b', re.search(r'Distance:(.+?)$', text, re.DOTALL).group(1))]\n",
    "    dist = int(''.join([n for n in distance_list]))\n",
    "\n",
    "    res = ways2win(time,dist)\n",
    "\n",
    "\n",
    "file.close()\n",
    "print(res)"
   ]
  }
 ],
 "metadata": {
  "kernelspec": {
   "display_name": "Python 3",
   "language": "python",
   "name": "python3"
  },
  "language_info": {
   "codemirror_mode": {
    "name": "ipython",
    "version": 3
   },
   "file_extension": ".py",
   "mimetype": "text/x-python",
   "name": "python",
   "nbconvert_exporter": "python",
   "pygments_lexer": "ipython3",
   "version": "3.11.6"
  }
 },
 "nbformat": 4,
 "nbformat_minor": 2
}
