{
 "cells": [
  {
   "cell_type": "code",
   "execution_count": 317,
   "metadata": {},
   "outputs": [
    {
     "name": "stdout",
     "output_type": "stream",
     "text": [
      "531932\n"
     ]
    }
   ],
   "source": [
    "import re\n",
    "global input\n",
    "\n",
    "def find_symbols(sequence):\n",
    "\n",
    "    non_numeric_non_dot_symbols = re.findall(r'[^0-9.]', sequence)\n",
    "    unique_symbols_set = set(non_numeric_non_dot_symbols)\n",
    "    \n",
    "    return unique_symbols_set\n",
    "\n",
    "def find_occurrences(input_string):\n",
    "    \n",
    "    line_len = line_length()\n",
    "    symbols = find_symbols(input_string)\n",
    "    symbols_positions = []\n",
    "    for symbol in symbols:\n",
    "        pattern = re.compile(re.escape(symbol))\n",
    "        matches = pattern.finditer(input_string)\n",
    "        for match in matches:\n",
    "            num = match.start()\n",
    "            symbols_positions.extend([(num-(line_len+1),num-(line_len-1)),(num-1,num+1),(num+(line_len-1),num+(line_len+1))])\n",
    "\n",
    "    return sorted(symbols_positions, key=lambda x: x[1])\n",
    "\n",
    "def line_length():\n",
    "\n",
    "    file =  open(input,'r')\n",
    "    line = file.readline().replace('\\n', '.')\n",
    "    file.close()\n",
    "\n",
    "    return len(line)\n",
    "\n",
    "def find_numbers(text):\n",
    "\n",
    "    numbers=[]\n",
    "    number_positions = []\n",
    "\n",
    "    pattern = re.compile(r'[0-9]+')\n",
    "    matches = pattern.finditer(text)\n",
    "\n",
    "    for match in matches:\n",
    "        numbers.append(int(match.group()))\n",
    "        number_positions.append((match.start(),match.end()-1))\n",
    "    \n",
    "    return numbers, number_positions\n",
    "\n",
    "def find_overlapping_intervals(interval1, list2):\n",
    "\n",
    "    for interval2 in list2:\n",
    "            if interval1[1] >= interval2[0] and interval1[0] <= interval2[1]:\n",
    "                return True\n",
    "            \n",
    "    return False\n",
    "\n"
   ]
  },
  {
   "cell_type": "markdown",
   "metadata": {},
   "source": [
    "1"
   ]
  },
  {
   "cell_type": "code",
   "execution_count": null,
   "metadata": {},
   "outputs": [],
   "source": [
    "\n",
    "with open(input,'r') as file:\n",
    "    res = []\n",
    "    content = file.read().replace('\\n', '.')\n",
    "    symbols_pos = find_occurrences(content)\n",
    "    numbers,numbers_pos = find_numbers(content)\n",
    "    # print(symbols_pos)\n",
    "    # print(numbers)\n",
    "    # print(numbers_pos)\n",
    "    for num,pos in zip(numbers,numbers_pos):\n",
    "        if find_overlapping_intervals(pos,symbols_pos):\n",
    "            res.append(num)\n",
    "\n",
    "\n",
    "\n",
    "print(sum(res))"
   ]
  }
 ],
 "metadata": {
  "kernelspec": {
   "display_name": "Python 3",
   "language": "python",
   "name": "python3"
  },
  "language_info": {
   "codemirror_mode": {
    "name": "ipython",
    "version": 3
   },
   "file_extension": ".py",
   "mimetype": "text/x-python",
   "name": "python",
   "nbconvert_exporter": "python",
   "pygments_lexer": "ipython3",
   "version": "3.11.6"
  }
 },
 "nbformat": 4,
 "nbformat_minor": 2
}
