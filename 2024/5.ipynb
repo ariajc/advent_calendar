{
 "cells": [
  {
   "cell_type": "code",
   "execution_count": 9,
   "metadata": {},
   "outputs": [],
   "source": [
    "with open('input.txt') as f:\n",
    "    input = [line.strip() for line in f.readlines()]\n",
    "    \n",
    "rules = [element for element in input[:input.index('')]]\n",
    "lines = input[input.index('')+1:]"
   ]
  },
  {
   "cell_type": "code",
   "execution_count": 10,
   "metadata": {},
   "outputs": [],
   "source": [
    "def order_dict(a, b, res={}, count=0):\n",
    "    if len(a) == 1:\n",
    "        res[a[0]] = count\n",
    "        res[b[0]] = count+1\n",
    "        return res\n",
    "    \n",
    "    for element in set(a):\n",
    "        if element not in set(b):\n",
    "            b = [val for i, val in enumerate(b) if a[i] != element]\n",
    "            a = [val for val in a if val != element]\n",
    "            res[element] = count\n",
    "            count += 1\n",
    "            order_dict(a, b, res, count)\n",
    "    \n",
    "    return res "
   ]
  },
  {
   "cell_type": "markdown",
   "metadata": {},
   "source": [
    "## PART 1"
   ]
  },
  {
   "cell_type": "code",
   "execution_count": 3,
   "metadata": {},
   "outputs": [
    {
     "name": "stdout",
     "output_type": "stream",
     "text": [
      "143\n"
     ]
    }
   ],
   "source": [
    "res = []\n",
    "\n",
    "for line in lines:\n",
    "    line_list = [int(element) for element in line.split(',')]\n",
    "    is_True = True\n",
    "    \n",
    "    if is_True:\n",
    "        for rule in rules:\n",
    "            rules_list = [int(element) for element in rule.split('|')]\n",
    "            if (set(rules_list).issubset(set(line_list))) and ([i for i in line_list if i in rules_list] != rules_list):\n",
    "                    is_True = False\n",
    "                \n",
    "    if is_True: res.append(line_list)   \n",
    "\n",
    "print(sum([element[len(element)//2] for element in res]))"
   ]
  },
  {
   "cell_type": "code",
   "execution_count": null,
   "metadata": {},
   "outputs": [
    {
     "name": "stdout",
     "output_type": "stream",
     "text": [
      "['75', '47', '61', '53', '29']\n",
      "{'75': 0, '47': 1, '61': 2, '53': 3, '29': 4, '97': 0, '13': 4}\n",
      "TRUE\n",
      "['97', '61', '53', '29', '13']\n",
      "{'75': 0, '47': 1, '61': 1, '53': 2, '29': 3, '97': 0, '13': 4}\n",
      "TRUE\n",
      "['75', '29', '13']\n",
      "{'75': 0, '47': 1, '61': 1, '53': 2, '29': 1, '97': 0, '13': 2}\n",
      "TRUE\n",
      "['75', '97', '47', '61', '53']\n",
      "{'75': 1, '47': 2, '61': 3, '53': 4, '29': 1, '97': 0, '13': 2}\n",
      "['61', '13', '29']\n",
      "{'75': 1, '47': 2, '61': 0, '53': 4, '29': 1, '97': 0, '13': 2}\n",
      "['97', '13', '75', '29', '47']\n",
      "{'75': 1, '47': 2, '61': 0, '53': 4, '29': 3, '97': 0, '13': 4}\n",
      "143\n"
     ]
    }
   ],
   "source": [
    "res = []\n",
    "\n",
    "\n",
    "for line in lines:\n",
    "    a = []\n",
    "    b = []\n",
    "    line_list = [element for element in line.split(',')]\n",
    "    \n",
    "    for x,y in [element.split('|') for element in rules]:\n",
    "        if (x in line_list) and (y in line_list):\n",
    "            a.append(x)\n",
    "            b.append(y)\n",
    "\n",
    "    order = order_dict(a,b)\n",
    "    if line_list == sorted(line_list, key=lambda x: order[x]):\n",
    "        res.append(line_list)   \n",
    "        \n",
    "print(sum([int(element[len(element)//2]) for element in res]))"
   ]
  },
  {
   "cell_type": "markdown",
   "metadata": {},
   "source": [
    "PART 2"
   ]
  },
  {
   "cell_type": "code",
   "execution_count": null,
   "metadata": {},
   "outputs": [],
   "source": [
    "res = []\n",
    "\n",
    "for line in lines:\n",
    "    a = []\n",
    "    b=[]\n",
    "    line_list = [element for element in line.split(',')]\n",
    "    \n",
    "    for x,y in [element.split('|') for element in rules]:\n",
    "        if (x in line_list) and (y in line_list):\n",
    "            a.append(x)\n",
    "            b.append(y)\n",
    "\n",
    "    order = order_dict(a,b)\n",
    "    \n",
    "    if line_list != sorted(line_list, key=lambda x: order[x]):\n",
    "        res.append(sorted(line_list, key=lambda x: order[x]))   \n",
    "        \n",
    "print(sum([int(element[len(element)//2]) for element in res]))"
   ]
  }
 ],
 "metadata": {
  "kernelspec": {
   "display_name": "Python 3",
   "language": "python",
   "name": "python3"
  },
  "language_info": {
   "codemirror_mode": {
    "name": "ipython",
    "version": 3
   },
   "file_extension": ".py",
   "mimetype": "text/x-python",
   "name": "python",
   "nbconvert_exporter": "python",
   "pygments_lexer": "ipython3",
   "version": "3.11.6"
  }
 },
 "nbformat": 4,
 "nbformat_minor": 2
}
