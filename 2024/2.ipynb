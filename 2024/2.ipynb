{
 "cells": [
  {
   "cell_type": "code",
   "execution_count": null,
   "metadata": {},
   "outputs": [],
   "source": [
    "val = []\n",
    "with open('input.txt') as f:\n",
    "    for line in f.readlines():\n",
    "        [int(x) for x in line.split(' ')]\n",
    "        val.append([int(x) for x in line.split(' ')])"
   ]
  },
  {
   "cell_type": "markdown",
   "metadata": {},
   "source": [
    "## PART 1"
   ]
  },
  {
   "cell_type": "code",
   "execution_count": 38,
   "metadata": {},
   "outputs": [
    {
     "name": "stdout",
     "output_type": "stream",
     "text": [
      "502\n"
     ]
    }
   ],
   "source": [
    "res=0\n",
    "for element in val:\n",
    "    temp = []\n",
    "    differences = [element[i+1] - element[i] for i in range(len(element)-1)]\n",
    "    if (all(item > 0 for item in differences) or all(item < 0 for item in differences)) and (all(abs(item) >= 1 for item in differences) and all(abs(item) <= 3 for item in differences)):\n",
    "        res+=1\n",
    "print(res)        "
   ]
  },
  {
   "cell_type": "markdown",
   "metadata": {},
   "source": [
    "## PART 2"
   ]
  },
  {
   "cell_type": "code",
   "execution_count": 39,
   "metadata": {},
   "outputs": [
    {
     "name": "stdout",
     "output_type": "stream",
     "text": [
      "544\n"
     ]
    }
   ],
   "source": [
    "res=0\n",
    "for element in val:\n",
    "    sub_lists = [element[:i] + element[i+1:] for i in range(len(element))]\n",
    "    for sub_list in sub_lists:\n",
    "        differences = [sub_list[i+1] - sub_list[i] for i in range(len(sub_list)-1)]\n",
    "        if (all(item > 0 for item in differences) or all(item < 0 for item in differences)) and (all(abs(item) >= 1 for item in differences) and all(abs(item) <= 3 for item in differences)):\n",
    "            res+=1\n",
    "            break\n",
    "print(res)       "
   ]
  }
 ],
 "metadata": {
  "kernelspec": {
   "display_name": "Python 3",
   "language": "python",
   "name": "python3"
  },
  "language_info": {
   "codemirror_mode": {
    "name": "ipython",
    "version": 3
   },
   "file_extension": ".py",
   "mimetype": "text/x-python",
   "name": "python",
   "nbconvert_exporter": "python",
   "pygments_lexer": "ipython3",
   "version": "3.11.6"
  }
 },
 "nbformat": 4,
 "nbformat_minor": 2
}
