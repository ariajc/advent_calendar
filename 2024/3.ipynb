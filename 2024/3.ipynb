{
 "cells": [
  {
   "cell_type": "code",
   "execution_count": null,
   "metadata": {},
   "outputs": [],
   "source": [
    "import re"
   ]
  },
  {
   "cell_type": "code",
   "execution_count": 68,
   "metadata": {},
   "outputs": [],
   "source": [
    "with open('input.txt') as f:\n",
    "    input = f.read()"
   ]
  },
  {
   "cell_type": "markdown",
   "metadata": {},
   "source": [
    "## PART 1"
   ]
  },
  {
   "cell_type": "code",
   "execution_count": 69,
   "metadata": {},
   "outputs": [
    {
     "name": "stdout",
     "output_type": "stream",
     "text": [
      "166905464\n"
     ]
    }
   ],
   "source": [
    "res=0\n",
    "matches_mul = [match.start() for match in re.finditer(r'mul\\(', input)]\n",
    "for match in matches_mul:\n",
    "    vals = re.findall(r'\\((.*?)\\)', input[match:match+12])\n",
    "    if (vals) and (re.sub(r'[0-9]', '', vals[0]) == ','):\n",
    "        res+=int(vals[0].split(',')[0])*int(vals[0].split(',')[1])\n",
    "        \n",
    "print(res)"
   ]
  },
  {
   "cell_type": "markdown",
   "metadata": {},
   "source": [
    "## PART 2"
   ]
  },
  {
   "cell_type": "code",
   "execution_count": 70,
   "metadata": {},
   "outputs": [
    {
     "name": "stdout",
     "output_type": "stream",
     "text": [
      "72948684\n"
     ]
    }
   ],
   "source": [
    "res=0\n",
    "matches_mul = [match.start() for match in re.finditer(r'mul\\(', input)]\n",
    "matches_do = [match.start() for match in re.finditer(r'do\\(\\)', input)]\n",
    "matches_dont = [match.start() for match in re.finditer(r'don\\'t\\(\\)', input)]\n",
    "for match in matches_mul:\n",
    "    if max([x if x < match else 0 for x in matches_do]) >= max([x if x < match else 0 for x in matches_dont]):\n",
    "        vals = re.findall(r'\\((.*?)\\)', input[match:match+12])\n",
    "        if (vals) and (re.sub(r'[0-9]', '', vals[0]) == ','):\n",
    "            res+=int(vals[0].split(',')[0])*int(vals[0].split(',')[1])\n",
    "        \n",
    "print(res)       "
   ]
  }
 ],
 "metadata": {
  "kernelspec": {
   "display_name": "Python 3",
   "language": "python",
   "name": "python3"
  },
  "language_info": {
   "codemirror_mode": {
    "name": "ipython",
    "version": 3
   },
   "file_extension": ".py",
   "mimetype": "text/x-python",
   "name": "python",
   "nbconvert_exporter": "python",
   "pygments_lexer": "ipython3",
   "version": "3.11.6"
  }
 },
 "nbformat": 4,
 "nbformat_minor": 2
}
